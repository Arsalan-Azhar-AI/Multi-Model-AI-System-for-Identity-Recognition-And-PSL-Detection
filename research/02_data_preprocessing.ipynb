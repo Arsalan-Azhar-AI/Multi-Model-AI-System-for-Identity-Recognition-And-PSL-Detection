{
 "cells": [
  {
   "cell_type": "code",
   "execution_count": 1,
   "metadata": {},
   "outputs": [],
   "source": [
    "import os"
   ]
  },
  {
   "cell_type": "code",
   "execution_count": 2,
   "metadata": {},
   "outputs": [
    {
     "data": {
      "text/plain": [
       "'/workspaces/End-to-End-Gender-Classification-project/research'"
      ]
     },
     "execution_count": 2,
     "metadata": {},
     "output_type": "execute_result"
    }
   ],
   "source": [
    "%pwd"
   ]
  },
  {
   "cell_type": "code",
   "execution_count": 3,
   "metadata": {},
   "outputs": [],
   "source": [
    "os.chdir(\"../\")"
   ]
  },
  {
   "cell_type": "code",
   "execution_count": 4,
   "metadata": {},
   "outputs": [
    {
     "data": {
      "text/plain": [
       "'/workspaces/End-to-End-Gender-Classification-project'"
      ]
     },
     "execution_count": 4,
     "metadata": {},
     "output_type": "execute_result"
    }
   ],
   "source": [
    "%pwd"
   ]
  },
  {
   "cell_type": "code",
   "execution_count": 13,
   "metadata": {},
   "outputs": [],
   "source": [
    "from dataclasses import dataclass\n",
    "from pathlib import Path\n",
    "\n",
    "\n",
    "@dataclass(frozen=True)\n",
    "class DataPreprocessingConfig:\n",
    "    root_dir: Path\n",
    "    DATASET: Path\n",
    "    male_path: Path\n",
    "    female_path: Path\n",
    "    data: Path\n",
    "    image_folder1: Path\n",
    "    folder_name: Path"
   ]
  },
  {
   "cell_type": "code",
   "execution_count": 14,
   "metadata": {},
   "outputs": [],
   "source": [
    "from src.cnnClassifier.constants import *\n",
    "from src.cnnClassifier.utils.common import read_yaml, create_directories"
   ]
  },
  {
   "cell_type": "code",
   "execution_count": 15,
   "metadata": {},
   "outputs": [],
   "source": [
    "class ConfigurationManager:\n",
    "    def __init__(\n",
    "        self, \n",
    "        config_filepath = CONFIG_FILE_PATH,\n",
    "        params_filepath = PARAMS_FILE_PATH):\n",
    "        self.config = read_yaml(config_filepath)\n",
    "        self.params = read_yaml(params_filepath)\n",
    "        create_directories([self.config.artifacts_root])\n",
    "\n",
    "\n",
    "    \n",
    "    def get_data_preprocessing_config(self) -> DataPreprocessingConfig:\n",
    "        config = self.config.data_preprocessing\n",
    "\n",
    "        create_directories([config.root_dir])\n",
    "        create_directories([config.DATASET])\n",
    "        create_directories([config.male_path])\n",
    "        create_directories([config.female_path])\n",
    "\n",
    "        data_preprocessing_config = DataPreprocessingConfig(\n",
    "            root_dir=config.root_dir,\n",
    "            DATASET=config.DATASET,\n",
    "            male_path=config.male_path,\n",
    "            female_path=config.female_path,\n",
    "            data=config.data,\n",
    "            image_folder1=config.image_folder1,\n",
    "            folder_name=config.folder_name \n",
    "        )\n",
    "\n",
    "        return data_preprocessing_config\n",
    "      "
   ]
  },
  {
   "cell_type": "code",
   "execution_count": 16,
   "metadata": {},
   "outputs": [],
   "source": [
    "import pandas as pd\n",
    "import os\n",
    "from shutil import copyfile\n",
    "import cv2\n",
    "import numpy as np\n",
    "from src.cnnClassifier import logger\n",
    "import shutil\n"
   ]
  },
  {
   "cell_type": "code",
   "execution_count": 17,
   "metadata": {},
   "outputs": [],
   "source": [
    "class DataPreprocessing:\n",
    "    def __init__(self, config: DataPreprocessingConfig):\n",
    "        self.config = config\n",
    " \n",
    "    def get_celeba_images(self):\n",
    "        data=pd.read_csv(self.config.data)\n",
    "        # Select male and female images\n",
    "        male_images = data[data['Male'] == 1]['image_id'].tolist()\n",
    "        female_images = data[data['Male'] == -1]['image_id'].tolist()\n",
    "\n",
    "        image_folder1=self.config.image_folder1\n",
    "\n",
    "        # Copy male images\n",
    "        for img in male_images[:1000]:  # Use first 1000 images\n",
    "            img_path = os.path.join(image_folder1, img)  # Full path of the image\n",
    "            img_path=cv2.imread(img_path)\n",
    "            img_path=cv2.resize(img_path,(224,224))\n",
    "            resized_image_rgb = cv2.cvtColor(img_path, cv2.COLOR_BGR2RGB)\n",
    "            img_path=np.array(resized_image_rgb)\n",
    "            save_path = os.path.join(self.config.male_path, f\"um-{img}\")  # Destination path\n",
    "            cv2.imwrite(save_path, img_path)\n",
    "        # Copy female images\n",
    "        for img in female_images[:1000]:  # Use first 1000 images\n",
    "            img_path = os.path.join(image_folder1, img)  # Full path of the image\n",
    "            img_path=cv2.imread(img_path)\n",
    "            img_path=cv2.resize(img_path,(224,224))\n",
    "            resized_image_rgb = cv2.cvtColor(img_path, cv2.COLOR_BGR2RGB)\n",
    "            img_path=np.array(resized_image_rgb)\n",
    "            save_path = os.path.join(self.config.female_path, f\"uf-{img}\")  # Destination path\n",
    "            cv2.imwrite(save_path, img_path)\n",
    "        logger.info(f\"CelebA Data-preprocessing Done\")\n",
    "    def get_knowing_person_images(self):\n",
    "        folder_name=self.config.folder_name\n",
    "        for sub_folder_name1 in os.listdir(folder_name):\n",
    "            sub_folder_name=os.path.join(folder_name,sub_folder_name1)\n",
    "            if os.path.isdir(sub_folder_name):\n",
    "                images=os.listdir(sub_folder_name)\n",
    "                for img_name1 in images:\n",
    "                    img_name = os.path.join(sub_folder_name, img_name1)\n",
    "\n",
    "                    # Load image\n",
    "                    image = cv2.imread(img_name)\n",
    "\n",
    "                    # Resize image (if necessary)\n",
    "                    resized_image = cv2.resize(image, (224, 224))\n",
    "                    resized_image_rgb = cv2.cvtColor(resized_image, cv2.COLOR_BGR2RGB)\n",
    "                    resized_image=np.array(resized_image_rgb)\n",
    "\n",
    "                    #image=resized_image.convert('RGB')\n",
    "                    '''\n",
    "                    # Adjust brightness and contrast\n",
    "                    adjusted_image = cv2.convertScaleAbs(resized_image, alpha=1.3, beta=40)  # alpha is contrast, beta is brightness\n",
    "\n",
    "                    # Apply sharpening\n",
    "                    kernel = np.array([[0, -1, 0],\n",
    "                                        [-1, 5,-1],\n",
    "                                        [0, -1, 0]])\n",
    "                    sharpened_image = cv2.filter2D(adjusted_image, -1, kernel)\n",
    "\n",
    "                    # Denoise the image\n",
    "                    denoised_image = cv2.fastNlMeansDenoisingColored(sharpened_image, None, 10, 10, 7, 21)\n",
    "                    '''\n",
    "                    # Save the enhanced image\n",
    "\n",
    "                    save_path = os.path.join(sub_folder_name, f'enhance-{img_name1}')\n",
    "                    cv2.imwrite(save_path,resized_image)\n",
    "                    os.remove(img_name)\n",
    "        \n",
    "    def knowing_person_images2(self):\n",
    "        main_folder = self.config.folder_name\n",
    "        for sub_dirs in os.listdir(main_folder):\n",
    "            sub_dir_path = os.path.join(main_folder, sub_dirs)\n",
    "            dest_dir_path = os.path.join(self.config.DATASET, sub_dirs)  # Define the destination path\n",
    "\n",
    "            # Check if the destination folder exists\n",
    "            if os.path.exists(dest_dir_path):\n",
    "                shutil.rmtree(dest_dir_path)  # Remove the existing destination folder\n",
    "                logger.info(f\"Removed existing folder '{dest_dir_path}'\")\n",
    "\n",
    "            shutil.move(sub_dir_path, self.config.DATASET)  # Move the source folder to destination\n",
    "            logger.info(f\"Moved '{sub_dir_path}' to '{self.config.DATASET}'\")\n",
    "\n",
    "        logger.info(f\"Knowing Person Data-preprocessing Done\")\n",
    "\n",
    "\n",
    "\n",
    "\n",
    "        "
   ]
  },
  {
   "cell_type": "code",
   "execution_count": 18,
   "metadata": {},
   "outputs": [
    {
     "name": "stdout",
     "output_type": "stream",
     "text": [
      "[2025-01-07 01:13:19,191: INFO: common: yaml file: config/config.yaml loaded successfully]\n",
      "[2025-01-07 01:13:19,721: INFO: common: yaml file: params.yaml loaded successfully]\n",
      "[2025-01-07 01:13:19,722: INFO: common: created directory at: artifacts]\n",
      "[2025-01-07 01:13:19,723: INFO: common: created directory at: artifacts/data_preprocessing]\n",
      "[2025-01-07 01:13:20,388: INFO: common: created directory at: artifacts/data_preprocessing/DATASET]\n",
      "[2025-01-07 01:13:20,415: INFO: common: created directory at: artifacts/data_preprocessing/DATASET/male]\n",
      "[2025-01-07 01:13:20,416: INFO: common: created directory at: artifacts/data_preprocessing/DATASET/female]\n",
      "[2025-01-07 01:13:38,595: INFO: 625737029: CelebA Data-preprocessing Done]\n",
      "[2025-01-07 01:13:49,869: INFO: 625737029: Moved 'artifacts/data_ingestion/knowing-person-images/M(Farhan)' to 'artifacts/data_preprocessing/DATASET']\n",
      "[2025-01-07 01:13:49,877: INFO: 625737029: Moved 'artifacts/data_ingestion/knowing-person-images/M(Fahad)' to 'artifacts/data_preprocessing/DATASET']\n",
      "[2025-01-07 01:13:49,888: INFO: 625737029: Moved 'artifacts/data_ingestion/knowing-person-images/M(Rizwan)' to 'artifacts/data_preprocessing/DATASET']\n",
      "[2025-01-07 01:13:49,897: INFO: 625737029: Moved 'artifacts/data_ingestion/knowing-person-images/M(Huzafia)' to 'artifacts/data_preprocessing/DATASET']\n",
      "[2025-01-07 01:13:49,899: INFO: 625737029: Knowing Person Data-preprocessing Done]\n"
     ]
    }
   ],
   "source": [
    "try:\n",
    "    config = ConfigurationManager()\n",
    "    data_preprocessing_config = config.get_data_preprocessing_config()\n",
    "    data_peprocessing = DataPreprocessing(config=data_preprocessing_config)\n",
    "    data_peprocessing.get_celeba_images()\n",
    "    data_peprocessing.get_knowing_person_images()\n",
    "    data_peprocessing.knowing_person_images2()\n",
    "except Exception as e:\n",
    "    raise e"
   ]
  },
  {
   "cell_type": "code",
   "execution_count": null,
   "metadata": {},
   "outputs": [],
   "source": []
  },
  {
   "cell_type": "code",
   "execution_count": null,
   "metadata": {},
   "outputs": [],
   "source": []
  }
 ],
 "metadata": {
  "kernelspec": {
   "display_name": "gencls",
   "language": "python",
   "name": "python3"
  },
  "language_info": {
   "codemirror_mode": {
    "name": "ipython",
    "version": 3
   },
   "file_extension": ".py",
   "mimetype": "text/x-python",
   "name": "python",
   "nbconvert_exporter": "python",
   "pygments_lexer": "ipython3",
   "version": "3.11.11"
  }
 },
 "nbformat": 4,
 "nbformat_minor": 2
}
